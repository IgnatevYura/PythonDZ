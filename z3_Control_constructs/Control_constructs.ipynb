{
 "cells": [
  {
   "cell_type": "markdown",
   "metadata": {},
   "source": [
    "### Задание 1"
   ]
  },
  {
   "cell_type": "code",
   "execution_count": 2,
   "metadata": {},
   "outputs": [
    {
     "data": {
      "text/plain": [
       "'r'"
      ]
     },
     "execution_count": 2,
     "metadata": {},
     "output_type": "execute_result"
    }
   ],
   "source": [
    "a = 'world'\n",
    "a[2]"
   ]
  },
  {
   "cell_type": "code",
   "execution_count": 4,
   "metadata": {},
   "outputs": [
    {
     "data": {
      "text/plain": [
       "'est'"
      ]
     },
     "execution_count": 4,
     "metadata": {},
     "output_type": "execute_result"
    }
   ],
   "source": [
    "a = 'test'\n",
    "a[1:4]"
   ]
  },
  {
   "cell_type": "markdown",
   "metadata": {},
   "source": [
    "### Задание 2"
   ]
  },
  {
   "cell_type": "code",
   "execution_count": 61,
   "metadata": {},
   "outputs": [
    {
     "name": "stdout",
     "output_type": "stream",
     "text": [
      "12\n",
      "End\n"
     ]
    }
   ],
   "source": [
    "#a,b,c,d(введите любые числа,и после первого нуля выводится сумма всех ранее введенных чисел )\n",
    "a, b, c, d = (3, 3, 3, 3)\n",
    "if a == 0:\n",
    "    print(a)\n",
    "elif b ==0:\n",
    "    print(a+b)\n",
    "elif c==0:\n",
    "    print(a+b+c)\n",
    "elif d==0:\n",
    "    print(a+b+c+d)\n",
    "elif a != 0:\n",
    "    print(a+b+c+d)\n",
    "elif b !=0:\n",
    "    print(a+b+c+d)\n",
    "elif c!=0:\n",
    "    print(a+b+c+d)\n",
    "elif d!=0:\n",
    "    print(a+b+c+d)\n",
    "print('End')"
   ]
  },
  {
   "cell_type": "markdown",
   "metadata": {},
   "source": [
    "### Задание 3"
   ]
  },
  {
   "cell_type": "code",
   "execution_count": 156,
   "metadata": {
    "scrolled": false
   },
   "outputs": [
    {
     "data": {
      "text/plain": [
       "[('Alex', 'Emma'),\n",
       " ('Arthur', 'Kate'),\n",
       " ('John', 'Kira'),\n",
       " ('Peter', 'Liza'),\n",
       " ('Richard', 'Trisha')]"
      ]
     },
     "execution_count": 156,
     "metadata": {},
     "output_type": "execute_result"
    }
   ],
   "source": [
    "boys = ['Peter', 'Alex', 'John', 'Arthur', 'Richard']\n",
    "girls = ['Kate', 'Liza', 'Kira', 'Emma', 'Trisha']\n",
    "b_and_g = zip(sorted(boys), sorted(girls))\n",
    "list(b_and_g)"
   ]
  },
  {
   "cell_type": "code",
   "execution_count": 159,
   "metadata": {},
   "outputs": [
    {
     "name": "stdout",
     "output_type": "stream",
     "text": [
      "Внимание, кто-то может остаться без пары!\n"
     ]
    }
   ],
   "source": [
    "boys = ['Peter', 'Alex', 'John', 'Richard', 'Michael', 'Arthur']\n",
    "girls = ['Kate', 'Liza', 'Kira', 'Emma', 'Trisha']\n",
    "if len(boys)!=len(girls):\n",
    "    print('Внимание, кто-то может остаться без пары!')\n",
    "#Почему если добавить эти строчки то все ломаеца, воде логично что если в списках одинаковое значение строк,\n",
    "#то он должен ночинать искать пары. Разве нет???\n",
    "#elif len(boys)==len(girls):\n",
    "#    print(b_and_g = zip(sorted(boys), sorted(girls)))"
   ]
  },
  {
   "cell_type": "markdown",
   "metadata": {},
   "source": [
    "### Задание 4"
   ]
  },
  {
   "cell_type": "code",
   "execution_count": 362,
   "metadata": {},
   "outputs": [
    {
     "name": "stdout",
     "output_type": "stream",
     "text": [
      "Thailand - 23.9 C , Germany - 13.8 C , Russia - 3.7 C , Poland - 12.0 C . Средняя температура в градусах цельсия\n"
     ]
    }
   ],
   "source": [
    "#Средняя температура стран в градусах цельсия\n",
    "#F-Фарингейт\n",
    "#C-цельсия\n",
    "countries_temperature_F = [\n",
    "['Thailand_F', [75.2, 77, 78.8, 73.4, 68, 75.2, 77]],\n",
    "['Germany_F', [57.2, 55.4, 59, 59, 53.6]],\n",
    "['Russia_F', [35.6, 37.4, 39.2, 41, 42.8, 39.2, 35.6]],\n",
    "['Poland_F', [50, 50, 53.6, 57.2, 55.4, 55.4]]\n",
    "]\n",
    "#Среднее значение по фарингейту и перевод в цельсия\n",
    "#a-Thailand\n",
    "#b-Germany\n",
    "#c-Russia\n",
    "#d-Poland\n",
    "a=((((sum(countries_temperature_F[0] [1] ))/7)-32)/1.8)\n",
    "b=((((sum(countries_temperature_F[1] [1] ))/5)-32)/1.8)\n",
    "c=((((sum(countries_temperature_F[2] [1] ))/7)-32)/1.8)\n",
    "d=((((sum(countries_temperature_F[3] [1] ))/6)-32)/1.8)\n",
    "\n",
    "print('Thailand','-', round(a, 1),'C',',',\n",
    "      'Germany','-',round(b, 1),'C',',',\n",
    "      'Russia','-', round(c, 1),'C',',',\n",
    "      'Poland','-', round(d, 1),'C','.',\n",
    "      'Средняя температура в градусах цельсия')"
   ]
  },
  {
   "cell_type": "markdown",
   "metadata": {},
   "source": [
    "### Задание 5"
   ]
  },
  {
   "cell_type": "code",
   "execution_count": 477,
   "metadata": {
    "scrolled": true
   },
   "outputs": [
    {
     "name": "stdout",
     "output_type": "stream",
     "text": [
      "3\n",
      "4\n",
      "1\n",
      "13\n",
      "7\n",
      "4\n",
      "10\n",
      "19\n",
      "4\n",
      "8\n",
      "9\n",
      "11\n"
     ]
    },
    {
     "data": {
      "text/plain": [
       "'2018-05-11,user4,11'"
      ]
     },
     "execution_count": 477,
     "metadata": {},
     "output_type": "execute_result"
    }
   ],
   "source": [
    "stream = [\n",
    "'2018-01-01,user1,3',\n",
    "'2018-01-07,user1,4',\n",
    "'2018-03-29,user1,1',\n",
    "'2018-04-04,user1,13',\n",
    "'2018-01-05,user2,7',\n",
    "'2018-06-14,user3,4',\n",
    "'2018-07-02,user3,10',\n",
    "'2018-03-21,user4,19',\n",
    "'2018-03-22,user4,4',\n",
    "'2018-04-22,user4,8',\n",
    "'2018-05-03,user4,9',\n",
    "'2018-05-11,user4,11',\n",
    "]\n",
    "\n",
    "for a in stream:\n",
    "    print(a[17:])"
   ]
  }
 ],
 "metadata": {
  "kernelspec": {
   "display_name": "Python 3",
   "language": "python",
   "name": "python3"
  },
  "language_info": {
   "codemirror_mode": {
    "name": "ipython",
    "version": 3
   },
   "file_extension": ".py",
   "mimetype": "text/x-python",
   "name": "python",
   "nbconvert_exporter": "python",
   "pygments_lexer": "ipython3",
   "version": "3.8.5"
  }
 },
 "nbformat": 4,
 "nbformat_minor": 4
}
