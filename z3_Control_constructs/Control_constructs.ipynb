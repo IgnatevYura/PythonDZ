{
 "cells": [
  {
   "cell_type": "markdown",
   "metadata": {},
   "source": [
    "### Задание 1"
   ]
  },
  {
   "cell_type": "code",
   "execution_count": 95,
   "metadata": {},
   "outputs": [
    {
     "name": "stdout",
     "output_type": "stream",
     "text": [
      "vvedite slovo:asasweasas\n",
      "we\n"
     ]
    }
   ],
   "source": [
    "q = input('vvedite slovo:')\n",
    "l = len(q)\n",
    "if l % 2 ==0:\n",
    "    print (q[l//2-1:l//2+1])\n",
    "elif l % 2 != 0:\n",
    "    print (q[l//2])"
   ]
  },
  {
   "cell_type": "markdown",
   "metadata": {},
   "source": [
    "### Задание 2"
   ]
  },
  {
   "cell_type": "code",
   "execution_count": 84,
   "metadata": {},
   "outputs": [
    {
     "name": "stdout",
     "output_type": "stream",
     "text": [
      "Введите число через пробел:123\n",
      "Введите число через пробел:11\n",
      "Введите число через пробел:2\n",
      "Введите число через пробел:4\n",
      "Введите число через пробел:5\n",
      "Введите число через пробел:6\n",
      "Введите число через пробел:7\n",
      "Введите число через пробел:0\n",
      "158\n"
     ]
    }
   ],
   "source": [
    "#(введите любые числа,и после первого нуля выводится сумма всех ранее введенных чисел )\n",
    "\n",
    "y=int(input('Введите число через пробел:'))\n",
    "q = 0\n",
    "while y != 0:\n",
    "    q += y\n",
    "    y = int(input('Введите число через пробел:'))\n",
    " \n",
    "print(q)"
   ]
  },
  {
   "cell_type": "markdown",
   "metadata": {},
   "source": [
    "### Задание 3"
   ]
  },
  {
   "cell_type": "code",
   "execution_count": 91,
   "metadata": {},
   "outputs": [
    {
     "data": {
      "text/plain": [
       "[('Alex', 'Emma'),\n",
       " ('Arthur', 'Kate'),\n",
       " ('John', 'Kira'),\n",
       " ('Peter', 'Liza'),\n",
       " ('Richard', 'Trisha')]"
      ]
     },
     "execution_count": 91,
     "metadata": {},
     "output_type": "execute_result"
    }
   ],
   "source": [
    "boys = ['Peter', 'Alex', 'John', 'Arthur', 'Richard']\n",
    "girls = ['Kate', 'Liza', 'Kira', 'Emma', 'Trisha']\n",
    "b_and_g = zip(sorted(boys), sorted(girls))\n",
    "list(b_and_g)"
   ]
  },
  {
   "cell_type": "code",
   "execution_count": 112,
   "metadata": {},
   "outputs": [
    {
     "name": "stdout",
     "output_type": "stream",
     "text": [
      "[('Alex', 'Anny'), ('Arthur', 'Emma'), ('John', 'Kate'), ('Michael', 'Kira'), ('Peter', 'Liza'), ('Richard', 'Trisha')]\n"
     ]
    }
   ],
   "source": [
    "boys = ['Peter', 'Alex', 'John', 'Richard', 'Michael', 'Arthur']\n",
    "girls = ['Kate', 'Liza', 'Kira', 'Emma', 'Trisha','Anny',]\n",
    "if len(boys)!=len(girls):\n",
    "    print('Внимание, кто-то может остаться без пары!')\n",
    "elif len(boys)==len(girls):\n",
    "    b_and_g = zip(sorted(boys), sorted(girls))\n",
    "    print(list(b_and_g))"
   ]
  },
  {
   "cell_type": "markdown",
   "metadata": {},
   "source": [
    "### Задание 4"
   ]
  },
  {
   "cell_type": "code",
   "execution_count": 162,
   "metadata": {
    "scrolled": true
   },
   "outputs": [],
   "source": [
    "countries_temperature= [\n",
    "['Thailand', [75.2, 77, 78.8, 73.4, 68, 75.2, 77]],\n",
    "['Germany', [57.2, 55.4, 59, 59, 53.6]],\n",
    "['Russia', [35.6, 37.4, 39.2, 41, 42.8, 39.2, 35.6]],\n",
    "['Poland', [50, 50, 53.6, 57.2, 55.4, 55.4]]\n",
    "]"
   ]
  },
  {
   "cell_type": "code",
   "execution_count": 164,
   "metadata": {},
   "outputs": [
    {
     "name": "stdout",
     "output_type": "stream",
     "text": [
      "Thailand\n",
      "23.9 C\n",
      "Germany\n",
      "13.8 C\n",
      "Russia\n",
      "3.7 C\n",
      "Poland\n",
      "12.0 C\n"
     ]
    }
   ],
   "source": [
    "for countries in countries_temperature:\n",
    "    print(countries[0].capitalize())\n",
    "    print(round(((sum(countries[1])/len(countries[1])-32)/1.8), 1), 'C')"
   ]
  }
 ],
 "metadata": {
  "kernelspec": {
   "display_name": "Python 3",
   "language": "python",
   "name": "python3"
  },
  "language_info": {
   "codemirror_mode": {
    "name": "ipython",
    "version": 3
   },
   "file_extension": ".py",
   "mimetype": "text/x-python",
   "name": "python",
   "nbconvert_exporter": "python",
   "pygments_lexer": "ipython3",
   "version": "3.8.5"
  }
 },
 "nbformat": 4,
 "nbformat_minor": 4
}
