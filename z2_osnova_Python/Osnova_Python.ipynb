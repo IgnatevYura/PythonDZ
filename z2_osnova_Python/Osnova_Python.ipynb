{
 "cells": [
  {
   "cell_type": "markdown",
   "metadata": {},
   "source": [
    "### Задание 1"
   ]
  },
  {
   "cell_type": "code",
   "execution_count": 6,
   "metadata": {},
   "outputs": [
    {
     "name": "stdout",
     "output_type": "stream",
     "text": [
      "слово 1:qw\n",
      "слово 2:q\n",
      "Фраза 1 длиннее фразы 2\n"
     ]
    }
   ],
   "source": [
    "phrase_1 = input('слово 1:')\n",
    "phrase_2 = input('слово 2:')\n",
    "if phrase_1 > phrase_2:\n",
    "    print('Фраза 1 длиннее фразы 2')\n",
    "elif phrase_1 < phrase_2:\n",
    "    print('Фраза 2 длиннее фразы 1')\n",
    "elif phrase_1 == phrase_2:\n",
    "    print('Фразы равной длины')\n"
   ]
  },
  {
   "cell_type": "markdown",
   "metadata": {},
   "source": [
    "### Задание 2"
   ]
  },
  {
   "cell_type": "code",
   "execution_count": 79,
   "metadata": {},
   "outputs": [
    {
     "name": "stdout",
     "output_type": "stream",
     "text": [
      "Ввседите год:324\n",
      "Високосный\n"
     ]
    }
   ],
   "source": [
    "year = int(input ('Ввседите год:'))\n",
    "if year % 4 !=0:\n",
    "    print('Обычный')\n",
    "elif year % 100 == 0:\n",
    "    if year % 400 == 0:\n",
    "        print('Високосный')\n",
    "    else:\n",
    "        print('Обычный')\n",
    "else:\n",
    "    print('Високосный')"
   ]
  },
  {
   "cell_type": "markdown",
   "metadata": {},
   "source": [
    "### Задание 3"
   ]
  },
  {
   "cell_type": "code",
   "execution_count": 96,
   "metadata": {},
   "outputs": [
    {
     "name": "stdout",
     "output_type": "stream",
     "text": [
      "День роджения:7\n",
      "Месяц рождения:4\n",
      "Znak zadiaka:Fish\n"
     ]
    }
   ],
   "source": [
    "# a(День рождения) b(Месяц рождения)\n",
    "a = int(input ('День роджения:'))\n",
    "b = int(input ('Месяц рождения:'))\n",
    "if (a >= 13 and a<=31 and b==1) or (a>=1 and a<=7 and b==2):\n",
    "    print('Znak zadiaka:Kozerog')\n",
    "elif (a>=8 and a<=30 and b==2) or (a>=1 and a<=13 and b==3):\n",
    "    print('Znak zadiaka:Vodolei')\n",
    "elif(a>=14 and a<=31 and b==3) or (a>=1 and a<=14 and b==4):\n",
    "    print('Znak zadiaka:Fish')"
   ]
  },
  {
   "cell_type": "markdown",
   "metadata": {},
   "source": [
    "### Задание 4"
   ]
  },
  {
   "cell_type": "code",
   "execution_count": 120,
   "metadata": {
    "scrolled": true
   },
   "outputs": [
    {
     "name": "stdout",
     "output_type": "stream",
     "text": [
      "Коробка №2\n",
      "End\n"
     ]
    }
   ],
   "source": [
    "# a(width) b(length) c(height)\n",
    "a = 49\n",
    "b = 201\n",
    "c = 50\n",
    "if a<15 and b<15 and c<15:\n",
    "    print('Коробка №1')\n",
    "elif 50>a>15 or 50>b>15 or 50>c>15:\n",
    "    print('Коробка №2')\n",
    "elif b>200:\n",
    "    print('Упаковка для лыж')\n",
    "else:\n",
    "    print('Коробка №3')\n",
    "print('End')"
   ]
  },
  {
   "cell_type": "markdown",
   "metadata": {},
   "source": [
    "### Задание 5"
   ]
  },
  {
   "cell_type": "code",
   "execution_count": 49,
   "metadata": {},
   "outputs": [
    {
     "name": "stdout",
     "output_type": "stream",
     "text": [
      "Счасливое число\n",
      "End\n"
     ]
    }
   ],
   "source": [
    "#a(Номер билета)\n",
    "a =str(444444)\n",
    "if int(a[0])+int(a[1])+int(a[2])==int(a[5])+int(a[4])+int(a[3]):\n",
    "    print('Счасливое число')\n",
    "else:\n",
    "    print('Обычное число')\n",
    "print('End')"
   ]
  }
 ],
 "metadata": {
  "kernelspec": {
   "display_name": "Python 3",
   "language": "python",
   "name": "python3"
  },
  "language_info": {
   "codemirror_mode": {
    "name": "ipython",
    "version": 3
   },
   "file_extension": ".py",
   "mimetype": "text/x-python",
   "name": "python",
   "nbconvert_exporter": "python",
   "pygments_lexer": "ipython3",
   "version": "3.8.5"
  }
 },
 "nbformat": 4,
 "nbformat_minor": 4
}
