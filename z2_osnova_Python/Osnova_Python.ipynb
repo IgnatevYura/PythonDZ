{
 "cells": [
  {
   "cell_type": "markdown",
   "metadata": {},
   "source": [
    "### Задание 1"
   ]
  },
  {
   "cell_type": "code",
   "execution_count": 39,
   "metadata": {},
   "outputs": [
    {
     "data": {
      "text/plain": [
       "True"
      ]
     },
     "execution_count": 39,
     "metadata": {},
     "output_type": "execute_result"
    }
   ],
   "source": [
    "phrase_1=len('Мы заработали за тот месяц 200$')\n",
    "phrase_2=len('Гости')\n",
    "phrase_1>phrase_2"
   ]
  },
  {
   "cell_type": "code",
   "execution_count": 41,
   "metadata": {},
   "outputs": [
    {
     "data": {
      "text/plain": [
       "False"
      ]
     },
     "execution_count": 41,
     "metadata": {},
     "output_type": "execute_result"
    }
   ],
   "source": [
    "phrase_1='Мы заработали за тот месяц 200$'\n",
    "phrase_2='Гости'\n",
    "phrase_1<phrase_2"
   ]
  },
  {
   "cell_type": "code",
   "execution_count": 42,
   "metadata": {},
   "outputs": [
    {
     "data": {
      "text/plain": [
       "True"
      ]
     },
     "execution_count": 42,
     "metadata": {},
     "output_type": "execute_result"
    }
   ],
   "source": [
    "phrase_1='Мы заработали за тот месяц 200$'\n",
    "phrase_2='Мы заработали за тот месяц 200$'\n",
    "phrase_1==phrase_2"
   ]
  },
  {
   "cell_type": "markdown",
   "metadata": {},
   "source": [
    "### Задание 2"
   ]
  },
  {
   "cell_type": "code",
   "execution_count": 100,
   "metadata": {},
   "outputs": [
    {
     "name": "stdout",
     "output_type": "stream",
     "text": [
      "Обычный год\n",
      "End\n"
     ]
    }
   ],
   "source": [
    "year=2019\n",
    "if year==2020:\n",
    "    print('Высокосный год')\n",
    "elif year==2019:\n",
    "    print('Обычный год')\n",
    "print('End')"
   ]
  },
  {
   "cell_type": "markdown",
   "metadata": {},
   "source": [
    "### Задание 3"
   ]
  },
  {
   "cell_type": "code",
   "execution_count": 109,
   "metadata": {},
   "outputs": [
    {
     "name": "stdout",
     "output_type": "stream",
     "text": [
      "Ващ знак задиака:Водолей\n",
      "End\n"
     ]
    }
   ],
   "source": [
    "# a(День рождения) b(Месяц рождения)\n",
    "a=9\n",
    "b=2\n",
    "if a==10 and b==7:\n",
    "    print('Ващ знак задиака:РАК')\n",
    "elif a==9 and b==2:\n",
    "    print('Ващ знак задиака:Водолей')\n",
    "print('End')"
   ]
  },
  {
   "cell_type": "markdown",
   "metadata": {},
   "source": [
    "### Задание 4"
   ]
  },
  {
   "cell_type": "code",
   "execution_count": 154,
   "metadata": {
    "scrolled": true
   },
   "outputs": [
    {
     "name": "stdout",
     "output_type": "stream",
     "text": [
      "Коробка №3\n",
      "End\n"
     ]
    }
   ],
   "source": [
    "# a(width) b(length) c(height)\n",
    "a = 66\n",
    "b = 66\n",
    "c = 66\n",
    "if a<15 and b<15 and c<15:\n",
    "    print('Коробка №1')\n",
    "    #Я уверен что можно сократить даную строчку можно, но я не знаю какя командо отвечает за \"НО\"\n",
    "elif a>15 and a<50 and b>15 and b<50 and c>15 and c<50:\n",
    "    print('Коробка №2')\n",
    "elif b>200:\n",
    "    print('Упаковка для лыж')\n",
    "else:\n",
    "    print('Коробка №3')\n",
    "print('End')"
   ]
  },
  {
   "cell_type": "markdown",
   "metadata": {},
   "source": [
    "### Задание 5"
   ]
  },
  {
   "cell_type": "code",
   "execution_count": 49,
   "metadata": {},
   "outputs": [
    {
     "name": "stdout",
     "output_type": "stream",
     "text": [
      "Счасливое число\n",
      "End\n"
     ]
    }
   ],
   "source": [
    "#a(Номер билета)\n",
    "a =str(444444)\n",
    "if int(a[0])+int(a[1])+int(a[2])==int(a[5])+int(a[4])+int(a[3]):\n",
    "    print('Счасливое число')\n",
    "else:\n",
    "    print('Обычное число')\n",
    "print('End')"
   ]
  }
 ],
 "metadata": {
  "kernelspec": {
   "display_name": "Python 3",
   "language": "python",
   "name": "python3"
  },
  "language_info": {
   "codemirror_mode": {
    "name": "ipython",
    "version": 3
   },
   "file_extension": ".py",
   "mimetype": "text/x-python",
   "name": "python",
   "nbconvert_exporter": "python",
   "pygments_lexer": "ipython3",
   "version": "3.8.5"
  }
 },
 "nbformat": 4,
 "nbformat_minor": 4
}
