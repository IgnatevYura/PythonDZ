{
 "cells": [
  {
   "cell_type": "markdown",
   "metadata": {},
   "source": [
    "### Задание 1"
   ]
  },
  {
   "cell_type": "code",
   "execution_count": 1479,
   "metadata": {},
   "outputs": [],
   "source": [
    "documents = [\n",
    "{'type': 'passport', 'number': '2207 876234', 'name': 'Василий Гупкин'},\n",
    "{'type': 'invoice', 'number': '11-2', 'name': 'Геннадий Покемонов'},\n",
    "{'type': 'insurance', 'number': '10006', 'name': 'Аристарх Павлов'}\n",
    "]\n",
    "\n",
    "directories = {\n",
    "'1': ['2207 876234', '11-2'],\n",
    "'2': ['10006'],\n",
    "'3': []\n",
    "}\n"
   ]
  },
  {
   "cell_type": "markdown",
   "metadata": {},
   "source": [
    "### Не понимаю почему когда добавляешь второе условие то всегда выбивает документа нет"
   ]
  },
  {
   "cell_type": "code",
   "execution_count": 1276,
   "metadata": {},
   "outputs": [],
   "source": [
    "#Пункт 1. Пользователь по команде “p” может узнать владельца документа по его номеру\n",
    "\n",
    "# функция для определения владельца документа\n",
    "def document_owner(empl):\n",
    "    for position in empl:\n",
    "        if nom == position['number']:\n",
    "            return (position['name'])\n",
    "        #elif nom != position['number']:\n",
    "         #   return ('Документ не найден в базе')"
   ]
  },
  {
   "cell_type": "code",
   "execution_count": 1477,
   "metadata": {},
   "outputs": [
    {
     "data": {
      "text/plain": [
       "'Документ хранится на полке: 1'"
      ]
     },
     "execution_count": 1477,
     "metadata": {},
     "output_type": "execute_result"
    }
   ],
   "source": [
    "#Пункт 2. Пользователь по команде “s” может по номеру документа узнать на какой полке он хранится\n",
    "\n",
    "# функция для определения на какой полке хранится документ\n",
    "def direct_owner(direct):\n",
    "    for sen in direct.items():\n",
    "        namber, s4et = sen\n",
    "        for s4 in s4et:\n",
    "            if nom == (s4):\n",
    "                return (f\"Документ хранится на полке: {namber}\")\n",
    "                #if nom != s4:\n",
    "                 #   return 'Документ не найден в базе'\n",
    "direct_owner(directories)"
   ]
  },
  {
   "cell_type": "code",
   "execution_count": 1475,
   "metadata": {
    "scrolled": true
   },
   "outputs": [
    {
     "name": "stdout",
     "output_type": "stream",
     "text": [
      "№: 2207 876234, тип: passport, владелец: Василий Гупкин, полка хронения: 1\n",
      "№: 11-2, тип: invoice, владелец: Геннадий Покемонов, полка хронения: 1\n",
      "№: 10006, тип: insurance, владелец: Аристарх Павлов, полка хронения: 2\n"
     ]
    }
   ],
   "source": [
    "#Пункт 3. Пользователь по команде “l” может увидеть полную информацию по всем документам\n",
    "\n",
    "# функция для вувода всех данных\n",
    "def all_info(empl, direct):\n",
    "    for position in empl:\n",
    "        for sen in direct.items():\n",
    "            namber, s4et = sen\n",
    "            for s4 in s4et:\n",
    "                if position['number'] == s4:\n",
    "                    print(f\"№: {position['number']}, тип: {position['type']}, владелец: {position['name']}, полка хронения: {namber}\")\n",
    "                    #full = ('№: ', position['number'],',''тип:', position['type'],',' 'владелец:', position['name'],',' 'полка хронения:', namber)\n",
    "                    #print(full)\n",
    "all_info(documents,directories)"
   ]
  },
  {
   "cell_type": "markdown",
   "metadata": {},
   "source": [
    "### С добавлением и удалением файлов есть проблемы не понимаю как это сделать без груды текста"
   ]
  },
  {
   "cell_type": "code",
   "execution_count": 1500,
   "metadata": {},
   "outputs": [
    {
     "data": {
      "text/plain": [
       "'Полка добавлена. Текущий перечень полок: 1'"
      ]
     },
     "execution_count": 1500,
     "metadata": {},
     "output_type": "execute_result"
    }
   ],
   "source": [
    "#Пункт 4. Пользователь по команде “as” может добавить новую полку\n",
    "def add_direct(direct):\n",
    "    for key, value in direct.items():\n",
    "        if key == polka:\n",
    "                return (f\"Такая полка уже существует. Текущий перечень полок: {key}\")\n",
    "        if key != polka:\n",
    "                direct[polka] = []\n",
    "                return (f\"Полка добавлена. Текущий перечень полок: {key}\")\n",
    "add_direct(directories)"
   ]
  },
  {
   "cell_type": "code",
   "execution_count": 1518,
   "metadata": {},
   "outputs": [
    {
     "data": {
      "text/plain": [
       "'Такой полки не существует. Текущий перечень полок: 1'"
      ]
     },
     "execution_count": 1518,
     "metadata": {},
     "output_type": "execute_result"
    }
   ],
   "source": [
    "#Пункт 5. Пользователь по команде “ds” может удалить существующую полку из данных (только если она пустая)\n",
    "\n",
    "def del_direct(direct):\n",
    "    for key, value in direct.items():\n",
    "        for ke in key:\n",
    "            if ke != del_polka:\n",
    "                return (f\"Такой полки не существует. Текущий перечень полок: {key}\")\n",
    "            if ke == del_polka:\n",
    "                del direct[del_polka]\n",
    "                return (f\"Полка удалена. Текущий перечень полок: {key}\")\n",
    "del_direct(directories)"
   ]
  },
  {
   "cell_type": "code",
   "execution_count": 1522,
   "metadata": {
    "scrolled": true
   },
   "outputs": [
    {
     "name": "stdout",
     "output_type": "stream",
     "text": [
      "введите команду:l\n",
      "№: 2207 876234, тип: passport, владелец: Василий Гупкин, полка хронения: 1\n",
      "№: 11-2, тип: invoice, владелец: Геннадий Покемонов, полка хронения: 1\n",
      "№: 10006, тип: insurance, владелец: Аристарх Павлов, полка хронения: 2\n"
     ]
    }
   ],
   "source": [
    "kom = input('введите команду:')\n",
    "while kom != 'q':\n",
    "    if kom == 'p':\n",
    "        nom = input('введите номер документа:')\n",
    "        print(document_owner(documents))\n",
    "    elif kom == 's':\n",
    "        nom = input('введите номер документа:')\n",
    "        print(direct_owner(directories))\n",
    "    elif kom == 'l':\n",
    "        all_info(documents, directories)\n",
    "    elif kom == 'as':\n",
    "        polka = input('Введите номер полки: ')\n",
    "        add_direct(directories)\n",
    "    elif kom == 'ds':\n",
    "        del_polka = input('Введите номер полки: ')\n",
    "        del_direct(directories)\n",
    "        print(del_direct(directories))\n",
    "    elif kom != 'p' 's' 'l' 'as' 'ds':\n",
    "        print('Неверная команда')\n",
    "    break\n",
    "    #kom = input('введите команду:')"
   ]
  }
 ],
 "metadata": {
  "kernelspec": {
   "display_name": "Python 3",
   "language": "python",
   "name": "python3"
  },
  "language_info": {
   "codemirror_mode": {
    "name": "ipython",
    "version": 3
   },
   "file_extension": ".py",
   "mimetype": "text/x-python",
   "name": "python",
   "nbconvert_exporter": "python",
   "pygments_lexer": "ipython3",
   "version": "3.8.5"
  }
 },
 "nbformat": 4,
 "nbformat_minor": 4
}
